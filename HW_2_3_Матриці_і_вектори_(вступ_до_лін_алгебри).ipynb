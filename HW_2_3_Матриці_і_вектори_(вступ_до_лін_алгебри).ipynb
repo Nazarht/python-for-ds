{
 "cells": [
  {
   "cell_type": "code",
   "execution_count": 1,
   "metadata": {
    "tags": []
   },
   "outputs": [],
   "source": [
    "import numpy as np"
   ]
  },
  {
   "cell_type": "markdown",
   "metadata": {
    "id": "efug1V4CM0lT"
   },
   "source": [
    "### Завдання 1: Створення матриць та векторів\n",
    "1. Створіть `numpy` вектор `vector` розмірністю 10 з випадковими дійсними значеннями в діапазоні від 0 до 1. Можна скористатись двома альтернативними варіантами:\n",
    "  1. Генерація випадкових чисел з модулем [`random.uniform`](https://docs.python.org/3/library/random.html).\n",
    "  2. Створення вектора з допомогою метода `numpy` [np.random.rand](https://numpy.org/doc/stable/reference/random/generated/numpy.random.rand.html)\n",
    "\n",
    "2. Створіть матрицю `matrix` типу `numpy.array` розмірності 3x3 з наступними значеннями\n",
    "\n",
    "  $$\n",
    "  matrix = \\begin{bmatrix}\n",
    "  11 & 14 & 17 \\\\\n",
    "  20 & 23 & 26 \\\\\n",
    "  29 & 32 & 35\n",
    "  \\end{bmatrix}\n",
    "  $$\n",
    "\n",
    "  будь-яким відомими Вам способом.\n",
    "\n",
    "Виведіть на екран вектор і матрицю, а також їх розміри.\n"
   ]
  },
  {
   "cell_type": "code",
   "execution_count": 27,
   "metadata": {
    "id": "jxA_lG2_VIMe",
    "tags": []
   },
   "outputs": [
    {
     "data": {
      "text/plain": [
       "(array([0.15442081, 0.35607912, 0.37347514, 0.653194  , 0.20350267,\n",
       "        0.08035333, 0.82644439, 0.64485706, 0.00344543, 0.59894259]),\n",
       " array([[11, 14, 17],\n",
       "        [20, 23, 26],\n",
       "        [29, 32, 35]]),\n",
       " (10,),\n",
       " (3, 3))"
      ]
     },
     "execution_count": 27,
     "metadata": {},
     "output_type": "execute_result"
    }
   ],
   "source": [
    "vector = np.random.rand(10)\n",
    "\n",
    "matrix = np.array([\n",
    "    [11,14,17],\n",
    "    [20,23,26],\n",
    "    [29,32,35]\n",
    "])\n",
    "\n",
    "vector,matrix,vector.shape,matrix.shape"
   ]
  },
  {
   "cell_type": "markdown",
   "metadata": {
    "id": "TSJ1P4OuOVe2"
   },
   "source": [
    "\n",
    "### Завдання 2: Операції над векторами та матрицями\n",
    "Виконайте кожну з зазначених операцій над зазначеними оʼєктами і виведіть результат на екран:\n",
    "1. Додайте до кожного значення вектора `vector` число 10 і округліть кожне значення до 2 знаків після коми без використання циклів.\n",
    "2. Помножте кожен елемент матриці з першого завдання на 2 без використання циклів.\n",
    "3. Створіть новий вектор, який містить квадрат кожного `vector` без циклів.\n"
   ]
  },
  {
   "cell_type": "code",
   "execution_count": 29,
   "metadata": {
    "id": "nAAojtyUVJXN",
    "tags": []
   },
   "outputs": [
    {
     "data": {
      "text/plain": [
       "(array([10.15, 10.36, 10.37, 10.65, 10.2 , 10.08, 10.83, 10.64, 10.  ,\n",
       "        10.6 ]),\n",
       " array([[22, 28, 34],\n",
       "        [40, 46, 52],\n",
       "        [58, 64, 70]]),\n",
       " array([103.0225, 107.3296, 107.5369, 113.4225, 104.04  , 101.6064,\n",
       "        117.2889, 113.2096, 100.    , 112.36  ]))"
      ]
     },
     "execution_count": 29,
     "metadata": {},
     "output_type": "execute_result"
    }
   ],
   "source": [
    "vector = np.round(vector + 10,2)\n",
    "\n",
    "matrix = matrix * 2\n",
    "\n",
    "new_vector = vector * vector\n",
    "\n",
    "vector, matrix, new_vector"
   ]
  },
  {
   "cell_type": "markdown",
   "metadata": {
    "id": "u6RvWVfhPy-k"
   },
   "source": [
    "\n",
    "### Завдання 3: Множення матриць\n",
    "1. Задані дві матриці `A` і `B`розмірностями 3x2 та 2х3. Виконайте їхнє множення, щоб отримати матрицю 2x2. Виведіть результуючу матрицю `result_matrix` на екран.\n",
    "\n",
    "2. Заданий вектор `C` розмірністю 2х1. Подумайте спочатку, яку розмірність Ви отрмаєте, коли домножите `result_matrix` на вектор `C` і який результат буде. А потім виконайте множення і виведіть результат на екран.\n",
    "\n",
    "3. Задана матриця `D` розмірністю 2х2. Подумайте спочатку, яку розмірність Ви отрмаєте, коли домножите `result_matrix` на матрицю `D` і який результат буде. А потім виконайте множення і виведіть результат на екран."
   ]
  },
  {
   "cell_type": "code",
   "execution_count": 31,
   "metadata": {
    "id": "RwXfPzlbSJ44",
    "tags": []
   },
   "outputs": [
    {
     "data": {
      "text/plain": [
       "array([[0.18, 0.53],\n",
       "       [0.75, 0.47],\n",
       "       [0.35, 0.21]])"
      ]
     },
     "metadata": {},
     "output_type": "display_data"
    },
    {
     "data": {
      "text/plain": [
       "array([[0.17, 0.58, 0.75],\n",
       "       [0.38, 0.11, 0.15]])"
      ]
     },
     "metadata": {},
     "output_type": "display_data"
    },
    {
     "data": {
      "text/plain": [
       "array([[0],\n",
       "       [1]])"
      ]
     },
     "metadata": {},
     "output_type": "display_data"
    },
    {
     "data": {
      "text/plain": [
       "array([[0, 1],\n",
       "       [1, 0]])"
      ]
     },
     "metadata": {},
     "output_type": "display_data"
    }
   ],
   "source": [
    "A = np.array(\n",
    "    [[0.18, 0.53],\n",
    "     [0.75, 0.47],\n",
    "     [0.35, 0.21]])\n",
    "\n",
    "B = np.array(\n",
    "    [[0.17, 0.58, 0.75],\n",
    "     [0.38, 0.11, 0.15]])\n",
    "\n",
    "C = np.array([[0], [1]])\n",
    "\n",
    "D = np.array([[0,1], [1,0]])\n",
    "\n",
    "display(A, B, C, D)"
   ]
  },
  {
   "cell_type": "code",
   "execution_count": 41,
   "metadata": {
    "id": "z7-boTbhVKkj",
    "tags": []
   },
   "outputs": [
    {
     "data": {
      "text/plain": [
       "array([[0.7281, 0.2034],\n",
       "       [0.5202, 0.2846]])"
      ]
     },
     "metadata": {},
     "output_type": "display_data"
    },
    {
     "data": {
      "text/plain": [
       "array([[0.2034],\n",
       "       [0.2846]])"
      ]
     },
     "metadata": {},
     "output_type": "display_data"
    },
    {
     "data": {
      "text/plain": [
       "array([[0.2034, 0.7281],\n",
       "       [0.2846, 0.5202]])"
      ]
     },
     "metadata": {},
     "output_type": "display_data"
    }
   ],
   "source": [
    "result_matrix = np.dot(A.T, B.T)\n",
    "\n",
    "display(result_matrix)\n",
    "\n",
    "result_vector = np.dot(result_matrix, C)\n",
    "\n",
    "display(result_vector)\n",
    "\n",
    "new_matrix = np.dot(result_matrix, D)\n",
    "\n",
    "display(new_matrix)"
   ]
  },
  {
   "cell_type": "markdown",
   "metadata": {
    "id": "wohp0_cxSGpl"
   },
   "source": [
    "\n",
    "### Завдання 4: Транспонування матриць\n",
    "1. Транспонуйте `result_matrix`.\n",
    "2. Зробіть транспонування вектора `vector` і виведіть форму нової структури. Чи бачите ви зміну?\n",
    "3. Використайте операцію `numpy.expand_dims` над вектором `vector` з аргументом axis=1. Запишіть отриманий результат в змінну `column_vector` і виведіть на екран. Порівняйте з `vector`.\n",
    "4. Зробіть транспонування `column_vector`, виведіть результат на екран разом з розмірностями отриманої структури.\n",
    "\n",
    "\n"
   ]
  },
  {
   "cell_type": "code",
   "execution_count": 61,
   "metadata": {
    "id": "4hFcq1baVLii",
    "tags": []
   },
   "outputs": [
    {
     "data": {
      "text/plain": [
       "array([10.15, 10.36, 10.37, 10.65, 10.2 , 10.08, 10.83, 10.64, 10.  ,\n",
       "       10.6 ])"
      ]
     },
     "metadata": {},
     "output_type": "display_data"
    },
    {
     "data": {
      "text/plain": [
       "array([10.15, 10.36, 10.37, 10.65, 10.2 , 10.08, 10.83, 10.64, 10.  ,\n",
       "       10.6 ])"
      ]
     },
     "metadata": {},
     "output_type": "display_data"
    },
    {
     "data": {
      "text/plain": [
       "array([[10.15],\n",
       "       [10.36],\n",
       "       [10.37],\n",
       "       [10.65],\n",
       "       [10.2 ],\n",
       "       [10.08],\n",
       "       [10.83],\n",
       "       [10.64],\n",
       "       [10.  ],\n",
       "       [10.6 ]])"
      ]
     },
     "metadata": {},
     "output_type": "display_data"
    },
    {
     "data": {
      "text/plain": [
       "(10,)"
      ]
     },
     "metadata": {},
     "output_type": "display_data"
    },
    {
     "data": {
      "text/plain": [
       "(10, 1)"
      ]
     },
     "metadata": {},
     "output_type": "display_data"
    },
    {
     "data": {
      "text/plain": [
       "array([[10.15, 10.36, 10.37, 10.65, 10.2 , 10.08, 10.83, 10.64, 10.  ,\n",
       "        10.6 ]])"
      ]
     },
     "metadata": {},
     "output_type": "display_data"
    },
    {
     "data": {
      "text/plain": [
       "(1, 10)"
      ]
     },
     "metadata": {},
     "output_type": "display_data"
    }
   ],
   "source": [
    "result_matrix_transposed = result_matrix.T\n",
    "\n",
    "vector_transposed = vector.T\n",
    "\n",
    "#the shape didnt change since the vector vas 1-dimensional, and within numpy logic it is not posible to transpose it\n",
    "display(vector_transposed)\n",
    "\n",
    "column_vector = np.expand_dims(vector, axis=1)\n",
    "\n",
    "#here we can see that vector now changed from horisontal to vertical\n",
    "display(vector, column_vector)\n",
    "\n",
    "#and we also can see how the shape now has 2 dimensions\n",
    "display(vector.shape, column_vector.shape)\n",
    "\n",
    "#now we can see that column vector has two dimensions even though it was transposed back into horisontal.\n",
    "#the main difference that we can see is that the array now is within another array\n",
    "display(column_vector.T, column_vector.T.shape)\n"
   ]
  }
 ],
 "metadata": {
  "colab": {
   "provenance": []
  },
  "kernelspec": {
   "display_name": "Python 3 (ipykernel)",
   "language": "python",
   "name": "python3"
  },
  "language_info": {
   "codemirror_mode": {
    "name": "ipython",
    "version": 3
   },
   "file_extension": ".py",
   "mimetype": "text/x-python",
   "name": "python",
   "nbconvert_exporter": "python",
   "pygments_lexer": "ipython3",
   "version": "3.11.7"
  }
 },
 "nbformat": 4,
 "nbformat_minor": 4
}
