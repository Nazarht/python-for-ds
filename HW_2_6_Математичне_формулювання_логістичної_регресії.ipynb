{
 "cells": [
  {
   "cell_type": "code",
   "execution_count": 2,
   "metadata": {
    "id": "PotuOp9EtnaO",
    "tags": []
   },
   "outputs": [],
   "source": [
    "import numpy as np"
   ]
  },
  {
   "cell_type": "markdown",
   "metadata": {
    "id": "KxRmdyv5CIZe"
   },
   "source": [
    "В цьому домашньому завданні ми реалізуємо логістичну регресію на `numpy`.\n",
    "Ці завдання допоможуть вам ґрунтовно засвоїти основні концепції логістичної регресії та реалізувати їх на практиці 🔥\n",
    "\n",
    "#### Завдання 1: Реалізація функції сигмоїди\n",
    "1. З використанням `numpy` напишіть функцію `sigmoid(z)` для обчислення значення сигмоїди згідно з формулою:\n",
    "   $$\n",
    "   \\sigma(z) = \\frac{1}{1 + e^{-z}}\n",
    "   $$\n",
    "2. Використовуючи цю функцію, обчисліть значення сигмоїди для наступних даних: $ z = [-2, -1, 0, 1, 2] $. Виведіть результат обчислень.\n"
   ]
  },
  {
   "cell_type": "code",
   "execution_count": 4,
   "metadata": {
    "colab": {
     "base_uri": "https://localhost:8080/"
    },
    "id": "v9ilfXulL2wP",
    "outputId": "2f4dd491-a432-4ad0-b7a1-dbf51a47c84c",
    "tags": []
   },
   "outputs": [
    {
     "name": "stdout",
     "output_type": "stream",
     "text": [
      "[0.11920292 0.26894142 0.5        0.73105858 0.88079708]\n"
     ]
    }
   ],
   "source": [
    "def sigmoid(x):\n",
    "  return 1/(1 + np.power(np.e, -(x)))\n",
    "\n",
    "print(sigmoid(np.array([-2,-1,0,1,2])))"
   ]
  },
  {
   "cell_type": "markdown",
   "metadata": {
    "id": "LVd_jCGNCR1F"
   },
   "source": [
    "\n",
    "\n",
    "#### Завдання 2: Реалізація функції гіпотези для логістичної регресії\n",
    "1. Напишіть функцію `hypothesis(theta, X)`, яка обчислює гіпотезу для логістичної регресії, використовуючи функцію сигмоїди. Формула гіпотези:\n",
    "   $$\n",
    "   h_\\theta(x) = \\sigma(\\theta^T x) = \\frac{1}{1 + e^{-\\theta^T x}}\n",
    "   $$\n",
    "2. Використайте функцію `hypothesis` для обчислення значень гіпотези для наступних даних:\n",
    "   \n",
    "   $\\theta = [0.5, -0.5]$\n",
    "   \n",
    "   $X = \\begin{bmatrix} 1 & 2 \\\\ 1 & -1 \\\\ 1 & 0 \\\\ 1 & 1 \\end{bmatrix}$\n",
    "\n",
    "  Виведіть результат обчислень.\n"
   ]
  },
  {
   "cell_type": "code",
   "execution_count": 28,
   "metadata": {
    "id": "dKDHv-YtL3TA",
    "tags": []
   },
   "outputs": [
    {
     "name": "stdout",
     "output_type": "stream",
     "text": [
      "[[0.37754067]\n",
      " [0.73105858]\n",
      " [0.62245933]\n",
      " [0.5       ]]\n"
     ]
    }
   ],
   "source": [
    "def hypothesis(theta, X):\n",
    "\n",
    "  weighted_X = X @ theta.T\n",
    "\n",
    "  return sigmoid(weighted_X)\n",
    "\n",
    "test_theta = np.array([0.5, -0.5], ndmin=2)\n",
    "\n",
    "test_X = np.array([[1,2],\n",
    "                   [1,-1],\n",
    "                   [1,0],\n",
    "                   [1,1]\n",
    "                   ])\n",
    "\n",
    "print(hypothesis(test_theta,test_X ))"
   ]
  },
  {
   "cell_type": "markdown",
   "metadata": {
    "id": "MWASH4Z4ClTo"
   },
   "source": [
    "#### Завдання 3: Реалізація функції для підрахунку градієнтів фукнції втрат\n",
    "1. Напишіть функцію `compute_gradient(theta, X, y)`, яка обчислює градієнти функції втрат для логістичної регресії. Формула для обчислення градієнта:\n",
    "   $$\n",
    "   \\frac{\\partial L(\\theta)}{\\partial \\theta_j} = \\frac{1}{m} \\sum_{i=1}^{m} \\left[ (h_\\theta(x^{(i)}) - y^{(i)}) x_j^{(i)} \\right]\n",
    "   $$\n",
    "2. Використайте функцію `compute_gradient` для обчислення градієнтів для наступних даних:\n",
    "\n",
    "  $\\theta = [0.5, -0.5]$\n",
    "\n",
    "  $X = \\begin{bmatrix} 1 & 2 \\\\ 1 & -1 \\\\ 1 & 0 \\\\ 1 & 1 \\end{bmatrix}$\n",
    "\n",
    "  $y = [1, 0, 1, 0]$\n",
    "\n",
    "  Виведіть результат обчислень."
   ]
  },
  {
   "cell_type": "code",
   "execution_count": 232,
   "metadata": {
    "id": "0DM4xqZCL32i",
    "tags": []
   },
   "outputs": [
    {
     "name": "stdout",
     "output_type": "stream",
     "text": [
      "[[ 0.05776464]\n",
      " [-0.36899431]]\n"
     ]
    }
   ],
   "source": [
    "def compute_gradient(theta, X, y):\n",
    "    m = X.shape[0]\n",
    "    \n",
    "    predictions = hypothesis(theta, X)\n",
    "    \n",
    "    #here we transpose y since predictions is a vecvtor mx1 and y on input is 1xm, and we get this wierd mxm vector when substract mx1 from 1xm\n",
    "    error = predictions - y.T\n",
    "    \n",
    "    gradient = 1/m * (X.T @ error)\n",
    "    \n",
    "    return gradient\n",
    "\n",
    "test_theta = np.array([0.5, -0.5], ndmin=2)\n",
    "\n",
    "test_X = np.array([[1,2],\n",
    "                   [1,-1],\n",
    "                   [1,0],\n",
    "                   [1,1]\n",
    "                   ])\n",
    "\n",
    "test_y = np.array([1,0,1,0], ndmin=2)\n",
    "\n",
    "print(compute_gradient(test_theta,test_X,test_y))\n",
    "    "
   ]
  },
  {
   "cell_type": "markdown",
   "metadata": {
    "id": "nOtJEtdnC1K9"
   },
   "source": [
    "\n",
    "#### Завдання 4: Реалізація повного батч градієнтного спуску\n",
    "\n",
    "**Задача:**\n",
    "1. Напишіть функцію `full_batch_gradient_descent(X, y, lr=0.1, epochs=100)`, яка реалізує алгоритм Full градієнтного спуску для логістичної регресії. Використовуйте такі формули:\n",
    "   - Гіпотеза: $ h_\\theta(x) = \\sigma(\\theta^T x) $\n",
    "   - Оновлення параметрів: $ \\theta_j := \\theta_j - \\alpha \\frac{\\partial L(\\theta)}{\\partial \\theta_j} $\n",
    "2. Використайте функцію `full_batch_gradient_descent` для обчислення параметрів моделі на наступних даних:\n",
    "\n",
    "  $X = \\begin{bmatrix} 1 & 2 \\\\ 1 & -1 \\\\ 1 & 0 \\\\ 1 & 1 \\end{bmatrix}$\n",
    "\n",
    "  $y = [1, 0, 1, 0]$\n",
    "\n",
    "  Увага! Матриця $X$ вже має стовпець одиниць і передбачається, що це. - стовпець для intercept - параметра зсуву.\n",
    "\n",
    "  Виведіть результат обчислень.\n"
   ]
  },
  {
   "cell_type": "code",
   "execution_count": 230,
   "metadata": {
    "id": "fHtUOTxXL4Yy",
    "tags": []
   },
   "outputs": [
    {
     "data": {
      "text/plain": [
       "array([[-0.11775849, -0.7085217 ]])"
      ]
     },
     "execution_count": 230,
     "metadata": {},
     "output_type": "execute_result"
    }
   ],
   "source": [
    "def full_batch_gradient_descent(X, y, lr=0.1, epochs=100):\n",
    "    theta = np.random.randn(2,1).T\n",
    "    \n",
    "    for i in range(epochs):\n",
    "        gradient = compute_gradient(theta,X,y)\n",
    "        \n",
    "        theta = theta - lr*gradient.T\n",
    "    \n",
    "    return theta\n",
    "\n",
    "full_batch_gradient_descent(test_X, test_y)"
   ]
  },
  {
   "cell_type": "markdown",
   "metadata": {
    "id": "E4iZV55cE5f3"
   },
   "source": [
    "#### Завдання 5. Обчислення точності моделі\n",
    "\n",
    "1. Напишіть функцію `predict_proba(theta, X)`, яка використовує знайдені параметри $\\theta$ для обчислення ймовірностей належності поточного прикладу з даних до класу $y=1$ на основі значень $\\sigma(\\theta^T x)$.\n",
    "\n",
    "2. Напишіть функцію `predict(theta, X, threshold=0.5)`, яка обчислює клас з передбаченої імовірності належності екземпляра до класу 1 з порогом 0.5. Тобто якщо ймовірність менше 0.5, то передбачаємо клас 0, інакше клас 1.\n",
    "\n",
    "3. Напишіть функцію `accuracy(y_true, y_pred)`, яка обчислює точність моделі, визначивши частку правильно передбачених класів.\n",
    "\n",
    "  Формула метрики Accuracy:\n",
    "  $$\n",
    "  \\text{Accuracy} = \\frac{\\sum_{i=1}^{m} I(\\hat{{y}^{(i)}} = y^{(i)})}{m}\n",
    "  $$\n",
    "\n",
    "  де $\\hat{{y}^{(i)}}$ - передбачене значення класу, $I$ - індикаторна функція (яка дорівнює 1, якщо умова виконується, і 0 - якщо ні), $m$ - кількість прикладів.\n",
    "\n",
    "4. Обчисліть з використанням даних в завданні 4 $X$, $y$ та обчислених коефіцієнтах $\\theta$ та виведіть на екран:\n",
    "  - передбачені моделлю імовірності належності кожного з екземплярів в матриці `X` до класу 1\n",
    "  - класи кожного екземпляра з матриці `X`\n",
    "  - точність моделі."
   ]
  },
  {
   "cell_type": "code",
   "execution_count": 267,
   "metadata": {
    "id": "qON93-GBL6Hd",
    "tags": []
   },
   "outputs": [
    {
     "name": "stdout",
     "output_type": "stream",
     "text": [
      "Predicted thetas:  [[0.70401509 0.98914145]]\n",
      "Predicted Ys:  [1 0 1 1]\n",
      "Model Accurasy is:  0.75\n"
     ]
    }
   ],
   "source": [
    "def predict_proba(theta, X):\n",
    "    return hypothesis(theta, X)\n",
    "\n",
    "def predict(theta, X, threshold=0.5):\n",
    "    predictions = hypothesis(theta, X)\n",
    "    \n",
    "    return np.array([1 if prediction >=0.5 else 0 for prediction in predictions])\n",
    "\n",
    "def accuracy(y_true, y_pred):\n",
    "    m = y_true.shape[0]\n",
    "    \n",
    "    error = (y_true == y_pred).astype(int)\n",
    "    \n",
    "    return np.sum(error)/m\n",
    "\n",
    "pred_theta = full_batch_gradient_descent(test_X, test_y, 0.001, 500)\n",
    "\n",
    "predicted_y = predict(pred_theta, test_X)\n",
    "\n",
    "model_accuracy = accuracy(predicted_y, test_y)\n",
    "\n",
    "print(\"Predicted thetas: \" ,pred_theta)\n",
    "print(\"Predicted Ys: \" ,predicted_y)\n",
    "print(\"Model Accurasy is: \", model_accuracy)"
   ]
  },
  {
   "cell_type": "markdown",
   "metadata": {},
   "source": [
    "Im not sure if this is possible to teach a model with such a small dataset, i tried different learining rate and amount of epochs, but is still looks more like guessing than like real prediction. Hence that it is hard to say if the code that i wrote is correct or no, but i tried to double check it and it seems ok to me."
   ]
  }
 ],
 "metadata": {
  "colab": {
   "provenance": []
  },
  "kernelspec": {
   "display_name": "Python 3 (ipykernel)",
   "language": "python",
   "name": "python3"
  },
  "language_info": {
   "codemirror_mode": {
    "name": "ipython",
    "version": 3
   },
   "file_extension": ".py",
   "mimetype": "text/x-python",
   "name": "python",
   "nbconvert_exporter": "python",
   "pygments_lexer": "ipython3",
   "version": "3.11.7"
  }
 },
 "nbformat": 4,
 "nbformat_minor": 4
}
